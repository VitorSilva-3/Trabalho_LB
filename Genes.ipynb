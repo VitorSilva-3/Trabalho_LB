{
 "cells": [
  {
   "cell_type": "code",
   "execution_count": 1,
   "id": "ec6e000e-0547-4571-81a3-a8fe619f004f",
   "metadata": {},
   "outputs": [
    {
     "name": "stdout",
     "output_type": "stream",
     "text": [
      "Requirement already satisfied: biopython in c:\\users\\filip\\anaconda3\\lib\\site-packages (1.84)Note: you may need to restart the kernel to use updated packages.\n",
      "\n",
      "Requirement already satisfied: numpy in c:\\users\\filip\\anaconda3\\lib\\site-packages (from biopython) (1.26.4)\n"
     ]
    }
   ],
   "source": [
    "pip install biopython"
   ]
  },
  {
   "cell_type": "code",
   "execution_count": 9,
   "id": "9ec732da-a94b-40ca-b85e-fa4342120972",
   "metadata": {},
   "outputs": [],
   "source": [
    "from Bio import Entrez\n",
    "import os\n",
    "\n",
    "# Set your email for NCBI Entrez\n",
    "Entrez.email = \"pg55697@alunos.uminho.pt\"\n",
    "\n",
    "# List of genes and their corresponding nucleotide and protein IDs\n",
    "genes = [\"dinB\", \"dnaA\", \"FE838_RS15320\", \"susG\"]\n",
    "nucleotide_id = [\"NZ_CP040530.1\", \"NZ_CP040530.1\", \"NZ_CP040530.1\", \"NZ_CP040530.1\"]  # Nucleotide ID for the gene\n",
    "protein_id = [\"WP_008760075.1\", \"WP_008759760.1\", \"WP_011107229.1\", \"WP_011108937.1\"]      # Protein ID for the gene\n",
    "\n",
    "# Create a directory for gene information if it doesn't exist\n",
    "os.makedirs('genes_information', exist_ok=True)\n"
   ]
  },
  {
   "cell_type": "code",
   "execution_count": 11,
   "id": "d81eec40-e43e-41d2-9616-a9f0de101ddc",
   "metadata": {},
   "outputs": [],
   "source": [
    "for i in range(len(genes)):\n",
    "    if nucleotide_id[i] == \"NA\":\n",
    "        print(f\"No nucleotide information available for {genes[i]}.\")\n",
    "        continue  # Skip to the next iteration if the ID is \"NA\"\n",
    "    \n",
    "    else:\n",
    "        handle = Entrez.efetch(db=\"nucleotide\", id=nucleotide_id[i], rettype=\"gb\", retmode=\"text\")\n",
    "        with open(f'genes_information/{genes[i]}.gb', \"w\") as doc:  # Use forward slashes\n",
    "            doc.write(handle.read())  # Use handle.read() to get the content\n",
    "            handle.close()  # Ensure the handle is closed"
   ]
  },
  {
   "cell_type": "code",
   "execution_count": 17,
   "id": "64a730a7-c860-4da8-84e6-a79887003ec5",
   "metadata": {},
   "outputs": [
    {
     "name": "stdout",
     "output_type": "stream",
     "text": [
      "Successfully fetched and saved protein information for dinB.\n",
      "Successfully fetched and saved protein information for dnaA.\n",
      "Successfully fetched and saved protein information for FE838_RS15320.\n",
      "Successfully fetched and saved protein information for susG.\n"
     ]
    }
   ],
   "source": [
    "# Loop through the genes and fetch their protein information\n",
    "for i in range(len(genes)):\n",
    "    try:\n",
    "        # Fetch the protein information from NCBI\n",
    "        handle = Entrez.efetch(db=\"protein\", id=protein_id[i], rettype=\"gb\", retmode=\"text\")\n",
    "        \n",
    "        # Write the fetched data to a file\n",
    "        with open(f'genes_information/{genes[i]}_protein.gb', \"w\") as doc:  # Use forward slashes\n",
    "            doc.write(handle.read())  # Use handle.read() to get the content\n",
    "        \n",
    "        print(f\"Successfully fetched and saved protein information for {genes[i]}.\")\n",
    "    \n",
    "    except Exception as e:\n",
    "        print(f\"An error occurred while fetching data for {genes[i]}: {e}\")\n",
    "    \n",
    "    finally:\n",
    "        handle.close()  # Ensure the handle is closed"
   ]
  },
  {
   "cell_type": "code",
   "execution_count": null,
   "id": "f87a2166-eff6-4b66-95a1-bcd8f918c7a9",
   "metadata": {},
   "outputs": [],
   "source": []
  }
 ],
 "metadata": {
  "kernelspec": {
   "display_name": "Python 3 (ipykernel)",
   "language": "python",
   "name": "python3"
  },
  "language_info": {
   "codemirror_mode": {
    "name": "ipython",
    "version": 3
   },
   "file_extension": ".py",
   "mimetype": "text/x-python",
   "name": "python",
   "nbconvert_exporter": "python",
   "pygments_lexer": "ipython3",
   "version": "3.12.4"
  }
 },
 "nbformat": 4,
 "nbformat_minor": 5
}
